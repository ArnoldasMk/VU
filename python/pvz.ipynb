{
 "cells": [
  {
   "cell_type": "code",
   "execution_count": null,
   "metadata": {},
   "outputs": [],
   "source": [
    "import numpy as np\n",
    "import matplotlib.pyplot as plt\n",
    "\n",
    "plt.axis([-2 * np.pi, 2 * np.pi, -1, 1])\n",
    "\n",
    "\n",
    "x_values = np.linspace(-2 * np.pi, 2 * np.pi, 100)\n",
    "\n",
    "for i in range(len(x_values)):\n",
    "    y = np.sin(x_values[:i]*5)\n",
    "    #plt.scatter(x_values[:i], y, color='blue')\n",
    "    plt.plot(x_values[:i], y, color= 'b', linewidth = '1')\n",
    "    plt.pause(0.001)\n",
    "\n",
    "plt.ylim(-10, 10)\n",
    "\n",
    "plt.show()"
   ]
  }
 ],
 "metadata": {
  "kernelspec": {
   "display_name": "Python 3",
   "language": "python",
   "name": "python3"
  },
  "language_info": {
   "name": "python",
   "version": "3.11.7"
  }
 },
 "nbformat": 4,
 "nbformat_minor": 2
}
